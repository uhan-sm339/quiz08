{
 "cells": [
  {
   "cell_type": "markdown",
   "id": "ddbd44a6-eddc-499e-891a-98434c12bb27",
   "metadata": {
    "deletable": false,
    "editable": false,
    "slideshow": {
     "slide_type": ""
    },
    "tags": []
   },
   "source": [
    "**SM339 &#x25aa; Applied Statistics &#x25aa; Spring 2024 &#x25aa; Uhan**"
   ]
  },
  {
   "cell_type": "markdown",
   "id": "d1fd5d54-36e1-4bb3-bc58-98da8ecc0ca7",
   "metadata": {
    "deletable": false,
    "editable": false,
    "slideshow": {
     "slide_type": ""
    },
    "tags": []
   },
   "source": [
    "# Quiz 8 &mdash; 3/28/2024"
   ]
  },
  {
   "cell_type": "markdown",
   "id": "4d544ec9-f80b-4d04-bb08-37f63c99369c",
   "metadata": {
    "deletable": false,
    "editable": false,
    "slideshow": {
     "slide_type": ""
    },
    "tags": []
   },
   "source": [
    "## Instructions\n",
    "\n",
    "This take-home quiz is due on __Thursday, March 28 at 23:59__.\n",
    "\n",
    "You may use your own course materials, as well as any materials directly linked from the course website. __No collaboration allowed.__\n",
    "\n",
    "Type your answers __directly in this Jupyter notebook__, and submit this notebook (just the `ipynb` file) using the submission form on the [course website](https://courses.uhan.me/sm339/)."
   ]
  },
  {
   "cell_type": "markdown",
   "id": "e8d7feec-28e6-4c32-b1ac-3455cbb2520f",
   "metadata": {
    "deletable": false,
    "editable": false,
    "slideshow": {
     "slide_type": ""
    },
    "tags": []
   },
   "source": [
    "## Problem 1\n",
    "\n",
    "The dataset `Diamonds` in the `Stat2Data` library has information on several variables for 351 diamonds.\n",
    "\n",
    "For this problem, we will focus on three variables: the total price of the diamond in dollars ($\\mathit{TotalPrice}$), the size of the diamond in carats ($\\mathit{Carat}$), and the depth of the cut as a percentage of the diameter ($\\mathit{Depth}$).\n",
    "\n",
    "Run the cell below to load and preview this data."
   ]
  },
  {
   "cell_type": "code",
   "execution_count": null,
   "id": "e6761c37-af33-4fc5-8e0a-d91af528b969",
   "metadata": {
    "deletable": false,
    "editable": false,
    "slideshow": {
     "slide_type": ""
    },
    "tags": []
   },
   "outputs": [],
   "source": [
    "library(Stat2Data)\n",
    "data(Diamonds)\n",
    "head(Diamonds)"
   ]
  },
  {
   "cell_type": "markdown",
   "id": "f1e253a0-6b7c-4aef-931a-fd8c15928101",
   "metadata": {
    "deletable": false,
    "editable": false,
    "slideshow": {
     "slide_type": ""
    },
    "tags": []
   },
   "source": [
    "### a.\n",
    "\n",
    "Fit a linear regression model to predict $\\mathit{TotalPrice}$ based on $\\mathit{Carat}$ and $\\mathit{Depth}$.\n",
    "\n",
    "Provide __only__ the summary output for this part."
   ]
  },
  {
   "cell_type": "code",
   "execution_count": null,
   "id": "d323fc90-5b42-47cf-a19b-3f19c74b32f8",
   "metadata": {
    "deletable": false,
    "editable": true,
    "slideshow": {
     "slide_type": ""
    },
    "tags": []
   },
   "outputs": [],
   "source": []
  },
  {
   "cell_type": "markdown",
   "id": "202ccd52-4f5a-4297-8aab-2562b0c5eeca",
   "metadata": {
    "deletable": false,
    "editable": false,
    "slideshow": {
     "slide_type": ""
    },
    "tags": []
   },
   "source": [
    "### b.\n",
    "\n",
    "Compute the variable inflation factors for each predictor in the model you fit in part a. Using the rule of thumb we covered in class, should we be concerned about multicollinearity?"
   ]
  },
  {
   "cell_type": "code",
   "execution_count": null,
   "id": "816e96bc-6537-4314-9b70-3f3baea1a406",
   "metadata": {
    "deletable": false,
    "editable": true,
    "slideshow": {
     "slide_type": ""
    },
    "tags": []
   },
   "outputs": [],
   "source": []
  },
  {
   "cell_type": "markdown",
   "id": "0f679b79-f9a2-4915-a0bd-4fa37f722584",
   "metadata": {
    "deletable": false,
    "editable": true,
    "slideshow": {
     "slide_type": ""
    },
    "tags": []
   },
   "source": [
    "*Write your answer here. Double-click to edit.*"
   ]
  },
  {
   "cell_type": "markdown",
   "id": "21c51bf3-6ce3-452e-8046-205c48030edf",
   "metadata": {
    "deletable": false,
    "editable": false,
    "slideshow": {
     "slide_type": ""
    },
    "tags": []
   },
   "source": [
    "### c.\n",
    "\n",
    "Fit the complete second-order model predicting $\\mathit{TotalPrice}$ using $\\mathit{Carat}$ and $\\mathit{Depth}$.\n",
    "\n",
    "Provide __only__ the summary output for this part."
   ]
  },
  {
   "cell_type": "code",
   "execution_count": null,
   "id": "c7dd5058-1f47-4e55-9f1e-d00754958826",
   "metadata": {
    "deletable": false,
    "editable": true,
    "slideshow": {
     "slide_type": ""
    },
    "tags": []
   },
   "outputs": [],
   "source": []
  },
  {
   "cell_type": "markdown",
   "id": "ef04cc40-8d59-493f-aee6-e9607ed55dff",
   "metadata": {
    "deletable": false,
    "editable": false,
    "slideshow": {
     "slide_type": ""
    },
    "tags": []
   },
   "source": [
    "### d.\n",
    "\n",
    "Perform a nested $F$-test to compare the models you fit in parts a and c. Assume a significance level of 0.05.\n",
    "\n",
    "In the code cell below, write R code to perform the test. You may use any R \"shortcut\" functions we covered in class.\n",
    "\n",
    "In the Markdown cell below, write:\n",
    "\n",
    "- the test statistic,\n",
    "- the p-value, and\n",
    "- the conclusion of the test."
   ]
  },
  {
   "cell_type": "code",
   "execution_count": null,
   "id": "2152575d-fc3d-46be-90c7-827d002221e3",
   "metadata": {
    "deletable": false,
    "editable": true,
    "slideshow": {
     "slide_type": ""
    },
    "tags": []
   },
   "outputs": [],
   "source": []
  },
  {
   "cell_type": "markdown",
   "id": "ddf58012-3312-4902-a381-6b060db7cffe",
   "metadata": {
    "deletable": false,
    "editable": true,
    "slideshow": {
     "slide_type": ""
    },
    "tags": []
   },
   "source": [
    "_Write your answer here. Double-click to edit._"
   ]
  },
  {
   "cell_type": "markdown",
   "id": "a14477ea-d77f-4ea3-a42f-d378e2c6a829",
   "metadata": {
    "deletable": false,
    "editable": false,
    "slideshow": {
     "slide_type": ""
    },
    "tags": []
   },
   "source": [
    "## Grading rubric\n",
    "    \n",
    "| Problem | Weight |\n",
    "| :-: | -: |\n",
    "| 1a | 1.0 |\n",
    "| 1b | 1.0 |\n",
    "| 1c | 1.0 | \n",
    "| 1d | 1.0 | \n",
    "| __Max Score__ | __40__ | "
   ]
  }
 ],
 "metadata": {
  "kernelspec": {
   "display_name": "R",
   "language": "R",
   "name": "ir"
  },
  "language_info": {
   "codemirror_mode": "r",
   "file_extension": ".r",
   "mimetype": "text/x-r-source",
   "name": "R",
   "pygments_lexer": "r",
   "version": "4.2.2"
  }
 },
 "nbformat": 4,
 "nbformat_minor": 5
}
